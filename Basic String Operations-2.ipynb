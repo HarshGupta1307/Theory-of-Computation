{
 "cells": [
  {
   "cell_type": "markdown",
   "metadata": {},
   "source": [
    "To count the number of blank spaces, alphabets and special symbols in a file."
   ]
  },
  {
   "cell_type": "code",
   "execution_count": 2,
   "metadata": {},
   "outputs": [
    {
     "name": "stdin",
     "output_type": "stream",
     "text": [
      "Enter file name :  sample.txt\n"
     ]
    },
    {
     "name": "stdout",
     "output_type": "stream",
     "text": [
      "Occurrences of Blank Spaces : \n",
      "3\n",
      "Occurrences of Characters : \n",
      "12\n",
      "Occurrences of Special Symbols : \n",
      "6\n"
     ]
    }
   ],
   "source": [
    "name = input(\"Enter file name : \")\n",
    "blank = 0\n",
    "alphabet = 0\n",
    "special = -1\n",
    "with open(name, 'r') as f:\n",
    "    for line in f:\n",
    "        for i in line:\n",
    "            if (i.isalpha()):\n",
    "                alphabet = alphabet+1\n",
    "            if i==' ':\n",
    "                blank = blank+1\n",
    "            if ((i.isalpha())!=True and i!=\" \") :\n",
    "                special= special + 1\n",
    "print(\"Occurrences of Blank Spaces : \")\n",
    "print(blank)\n",
    "print(\"Occurrences of Characters : \")\n",
    "print(alphabet)\n",
    "print(\"Occurrences of Special Symbols : \")\n",
    "print(special)"
   ]
  }
 ],
 "metadata": {
  "kernelspec": {
   "display_name": "Python 3",
   "language": "python",
   "name": "python3"
  },
  "language_info": {
   "codemirror_mode": {
    "name": "ipython",
    "version": 3
   },
   "file_extension": ".py",
   "mimetype": "text/x-python",
   "name": "python",
   "nbconvert_exporter": "python",
   "pygments_lexer": "ipython3",
   "version": "3.7.3"
  }
 },
 "nbformat": 4,
 "nbformat_minor": 4
}
