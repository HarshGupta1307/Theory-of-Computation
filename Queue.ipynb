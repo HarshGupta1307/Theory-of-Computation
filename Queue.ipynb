{
 "cells": [
  {
   "cell_type": "markdown",
   "metadata": {},
   "source": [
    "Program to implement basic Queue."
   ]
  },
  {
   "cell_type": "code",
   "execution_count": 1,
   "metadata": {},
   "outputs": [
    {
     "name": "stdout",
     "output_type": "stream",
     "text": [
      "[54]\n",
      "[54, 23]\n",
      "[54, 23, 72]\n",
      "[54, 23, 72, 11]\n",
      "[54, 23, 72, 11, 76]\n",
      "[54, 23, 72, 11, 76, 81]\n",
      "[23, 72, 11, 76, 81]\n",
      "5\n"
     ]
    }
   ],
   "source": [
    "class Queue:\n",
    "    def __init__(self):\n",
    "        self.l=[]\n",
    "    def enqueue(self,x):\n",
    "        self.l.append(x)\n",
    "        print(self.l)\n",
    "    def dequeue(self):\n",
    "        self.l.pop(0)\n",
    "        print(self.l)\n",
    "    def size(self):\n",
    "        return(len(self.l))\n",
    "q=Queue()\n",
    "q.enqueue(54)\n",
    "q.enqueue(23)\n",
    "q.enqueue(72)\n",
    "q.enqueue(11)\n",
    "q.enqueue(76)\n",
    "q.enqueue(81)\n",
    "q.dequeue()\n",
    "print(q.size())\n"
   ]
  }
 ],
 "metadata": {
  "kernelspec": {
   "display_name": "Python 3",
   "language": "python",
   "name": "python3"
  },
  "language_info": {
   "codemirror_mode": {
    "name": "ipython",
    "version": 3
   },
   "file_extension": ".py",
   "mimetype": "text/x-python",
   "name": "python",
   "nbconvert_exporter": "python",
   "pygments_lexer": "ipython3",
   "version": "3.7.3"
  }
 },
 "nbformat": 4,
 "nbformat_minor": 4
}
