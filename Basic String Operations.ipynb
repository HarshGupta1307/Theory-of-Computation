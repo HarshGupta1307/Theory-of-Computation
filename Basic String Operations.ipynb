{
 "cells": [
  {
   "cell_type": "markdown",
   "metadata": {},
   "source": [
    "To count the number of words in string."
   ]
  },
  {
   "cell_type": "code",
   "execution_count": 1,
   "metadata": {},
   "outputs": [
    {
     "name": "stdout",
     "output_type": "stream",
     "text": [
      "The original string is : My Name Is Harsh Gupta\n",
      "The number of words in string are : 5\n"
     ]
    }
   ],
   "source": [
    "string = \"My Name Is Harsh Gupta\"\n",
    "print (\"The original string is : \" + string) \n",
    "res = len(string.split()) \n",
    "print (\"The number of words in string are : \" + str(res))"
   ]
  },
  {
   "cell_type": "markdown",
   "metadata": {},
   "source": [
    "To count the number of words from a file."
   ]
  },
  {
   "cell_type": "code",
   "execution_count": 2,
   "metadata": {},
   "outputs": [
    {
     "name": "stdin",
     "output_type": "stream",
     "text": [
      "Enter file name :  New.txt\n"
     ]
    },
    {
     "name": "stdout",
     "output_type": "stream",
     "text": [
      "Number of words:\n",
      "5\n"
     ]
    }
   ],
   "source": [
    "name = input(\"Enter file name : \")\n",
    "num_words = 0\n",
    "with open(name, 'r') as f:\n",
    "    for line in f:\n",
    "        words = line.split()\n",
    "        num_words += len(words)\n",
    "print(\"Number of words:\")\n",
    "print(num_words)"
   ]
  },
  {
   "cell_type": "markdown",
   "metadata": {},
   "source": [
    "To count the number of blank spaces, alphabets and special symbols in a file."
   ]
  },
  {
   "cell_type": "code",
   "execution_count": 5,
   "metadata": {},
   "outputs": [
    {
     "name": "stdin",
     "output_type": "stream",
     "text": [
      "Enter file name :  sample.txt\n"
     ]
    },
    {
     "name": "stdout",
     "output_type": "stream",
     "text": [
      "Occurrences of Blank Spaces : \n",
      "1\n",
      "Occurrences of Characters : \n",
      "0\n",
      "Occurrences of Special Symbols : \n",
      "0\n"
     ]
    }
   ],
   "source": [
    "name = input(\"Enter file name : \")\n",
    "blank = 0\n",
    "alphabet = 0\n",
    "special = 0\n",
    "with open(name, 'r') as f:\n",
    "    for line in f:\n",
    "        words = line.split()\n",
    "        for i in words:\n",
    "            j = i.split()\n",
    "            for letter in j:\n",
    "                if(letter.isspace):\n",
    "                    blank = blank + 1\n",
    "                elif(letter.isalpha):\n",
    "                    alphabet = alphabet + 1\n",
    "                else:\n",
    "                    special = special + 1\n",
    "print(\"Occurrences of Blank Spaces : \")\n",
    "print(blank)\n",
    "print(\"Occurrences of Characters : \")\n",
    "print(alphabet)\n",
    "print(\"Occurrences of Special Symbols : \")\n",
    "print(special)"
   ]
  },
  {
   "cell_type": "code",
   "execution_count": null,
   "metadata": {},
   "outputs": [],
   "source": []
  }
 ],
 "metadata": {
  "kernelspec": {
   "display_name": "Python 3",
   "language": "python",
   "name": "python3"
  },
  "language_info": {
   "codemirror_mode": {
    "name": "ipython",
    "version": 3
   },
   "file_extension": ".py",
   "mimetype": "text/x-python",
   "name": "python",
   "nbconvert_exporter": "python",
   "pygments_lexer": "ipython3",
   "version": "3.6.7"
  }
 },
 "nbformat": 4,
 "nbformat_minor": 2
}
