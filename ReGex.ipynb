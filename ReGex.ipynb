{
 "cells": [
  {
   "cell_type": "code",
   "execution_count": 5,
   "metadata": {},
   "outputs": [
    {
     "name": "stdout",
     "output_type": "stream",
     "text": [
      "Yes, there is at least one match!\n"
     ]
    }
   ],
   "source": [
    "import re\n",
    "\n",
    "str = \"harsh@gmail.org\"\n",
    "x = re.search(\".+@.+\\.com|.+@.+\\.in|.+@.+\\.org\", str)\n",
    "if (x):\n",
    "  print(\"Yes, there is at least one match!\")\n",
    "else:\n",
    "  print(\"No match\")"
   ]
  },
  {
   "cell_type": "code",
   "execution_count": 18,
   "metadata": {},
   "outputs": [
    {
     "name": "stdout",
     "output_type": "stream",
     "text": [
      "Invalid Number\n"
     ]
    }
   ],
   "source": [
    "import re\n",
    "\n",
    "str=\"1234567890\"\n",
    "\n",
    "x = re.match(\"\\d{10}$\",str)\n",
    "\n",
    "if (x):  \n",
    "    print (\"Valid Number\")      \n",
    "else : \n",
    "    print (\"Invalid Number\")  \n",
    "  "
   ]
  },
  {
   "cell_type": "code",
   "execution_count": 19,
   "metadata": {},
   "outputs": [
    {
     "name": "stdout",
     "output_type": "stream",
     "text": [
      "Invalid Number\n"
     ]
    }
   ],
   "source": [
    "import re\n",
    "\n",
    "str=\"123456237890\"\n",
    "\n",
    "x = re.match(\"\\d{10}$\",str)\n",
    "\n",
    "if (x):  \n",
    "    print (\"Valid Number\")      \n",
    "else : \n",
    "    print (\"Invalid Number\")  \n",
    "  "
   ]
  },
  {
   "cell_type": "code",
   "execution_count": 20,
   "metadata": {},
   "outputs": [
    {
     "name": "stdout",
     "output_type": "stream",
     "text": [
      "Invalid Number\n"
     ]
    }
   ],
   "source": [
    "import re\n",
    "\n",
    "str=\"agsjvdsa\"\n",
    "\n",
    "x = re.match(\"\\d{10}$\",str)\n",
    "\n",
    "if (x):  \n",
    "    print (\"Valid Number\")      \n",
    "else : \n",
    "    print (\"Invalid Number\")  \n",
    "  "
   ]
  },
  {
   "cell_type": "code",
   "execution_count": null,
   "metadata": {},
   "outputs": [],
   "source": []
  }
 ],
 "metadata": {
  "kernelspec": {
   "display_name": "Python 3",
   "language": "python",
   "name": "python3"
  },
  "language_info": {
   "codemirror_mode": {
    "name": "ipython",
    "version": 3
   },
   "file_extension": ".py",
   "mimetype": "text/x-python",
   "name": "python",
   "nbconvert_exporter": "python",
   "pygments_lexer": "ipython3",
   "version": "3.7.3"
  }
 },
 "nbformat": 4,
 "nbformat_minor": 4
}
