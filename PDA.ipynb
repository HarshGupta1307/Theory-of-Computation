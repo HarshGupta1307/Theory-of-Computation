{
 "cells": [
  {
   "cell_type": "markdown",
   "metadata": {},
   "source": [
    "PDA"
   ]
  },
  {
   "cell_type": "code",
   "execution_count": 3,
   "metadata": {},
   "outputs": [
    {
     "name": "stdin",
     "output_type": "stream",
     "text": [
      "Enter a string: aabb\n"
     ]
    },
    {
     "name": "stdout",
     "output_type": "stream",
     "text": [
      "['a']\n",
      "['a', 'a']\n",
      "['a']\n",
      "[]\n",
      "PDA is acceptable\n"
     ]
    }
   ],
   "source": [
    "class Stack:\n",
    "    def __init__(self):\n",
    "        self.l=[]\n",
    "    def push(self,x):\n",
    "        self.l.append(x)\n",
    "        print(self.l)\n",
    "    def pop(self):\n",
    "        self.l.pop()\n",
    "        print(self.l)\n",
    "    def isempty(self):\n",
    "        return self.l==[]\n",
    "ip=Stack()\n",
    "n=input(\"Enter a string:\")\n",
    "for i in n:\n",
    "    if(i=='a'):\n",
    "        ip.push(i)\n",
    "    elif(i=='b'):\n",
    "        ip.pop()\n",
    "if(ip.isempty()):\n",
    "    print(\"PDA is acceptable\")\n",
    "else:\n",
    "    print(\"PDA is not acceptable\")"
   ]
  }
 ],
 "metadata": {
  "kernelspec": {
   "display_name": "Python 3",
   "language": "python",
   "name": "python3"
  },
  "language_info": {
   "codemirror_mode": {
    "name": "ipython",
    "version": 3
   },
   "file_extension": ".py",
   "mimetype": "text/x-python",
   "name": "python",
   "nbconvert_exporter": "python",
   "pygments_lexer": "ipython3",
   "version": "3.7.3"
  }
 },
 "nbformat": 4,
 "nbformat_minor": 4
}
